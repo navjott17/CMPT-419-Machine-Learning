{
  "nbformat": 4,
  "nbformat_minor": 0,
  "metadata": {
    "colab": {
      "name": "CMPT726-419_A1_Q2.ipynb",
      "provenance": [],
      "collapsed_sections": []
    },
    "kernelspec": {
      "display_name": "Python 3",
      "language": "python",
      "name": "python3"
    },
    "language_info": {
      "codemirror_mode": {
        "name": "ipython",
        "version": 3
      },
      "file_extension": ".py",
      "mimetype": "text/x-python",
      "name": "python",
      "nbconvert_exporter": "python",
      "pygments_lexer": "ipython3",
      "version": "3.7.3"
    },
    "nteract": {
      "version": "0.28.0"
    }
  },
  "cells": [
    {
      "cell_type": "markdown",
      "metadata": {
        "id": "yIzZYEqUwQKw"
      },
      "source": [
        "We recommend running this notebook on Google Colab to avoid having to install dependencies."
      ]
    },
    {
      "cell_type": "markdown",
      "metadata": {
        "id": "pyJgJ5DNERo5"
      },
      "source": [
        "## Load packages"
      ]
    },
    {
      "cell_type": "code",
      "metadata": {
        "ExecuteTime": {
          "end_time": "2021-03-11T21:12:35.634207Z",
          "start_time": "2021-03-11T21:12:34.239216Z"
        },
        "id": "mQ0w94zPtMvw"
      },
      "source": [
        "import matplotlib.pyplot as plt\n",
        "import numpy as np\n",
        "import math\n",
        "import sklearn\n",
        "import random\n",
        "\n",
        "from numpy import linalg\n",
        "from sklearn import datasets\n",
        "from sklearn import metrics\n",
        "\n",
        "\n",
        "EPS = 1e-9\n",
        "np.random.seed(0)\n",
        "random.seed(0)"
      ],
      "execution_count": 1,
      "outputs": []
    },
    {
      "cell_type": "markdown",
      "metadata": {
        "id": "SM0qdo6PEW1d"
      },
      "source": [
        "## Creating the dataset\n",
        "\n",
        "We create a dataset with 100 points and plot it as a scatter plot. Run this block to see the scatter plot of data points.\n"
      ]
    },
    {
      "cell_type": "code",
      "metadata": {
        "ExecuteTime": {
          "end_time": "2021-03-11T21:12:35.656496Z",
          "start_time": "2021-03-11T21:12:35.637352Z"
        },
        "id": "23IwboWcDwBA",
        "outputId": "491863ad-0d08-405d-b208-bd49f64ccde0",
        "colab": {
          "base_uri": "https://localhost:8080/",
          "height": 265
        }
      },
      "source": [
        "ds = sklearn.datasets.make_moons(n_samples=100)[0]\n",
        "def plot_scatter(xs, ys, labels=None, colors=None):\n",
        "    \"\"\"\n",
        "    Scatter plot of a list of data points\n",
        "    :param xs: list of points for the first dimension\n",
        "    :param ys: list of points for the second dimension\n",
        "    :param labels: list of labels associated with each xs[i] and ys[i], e.g., labels[i]\n",
        "    :return: None\n",
        "    \"\"\"\n",
        "    assert(len(xs) == len(ys))\n",
        "    fig, ax = plt.subplots()\n",
        "\n",
        "    for i in range(len(xs)):\n",
        "        label = None\n",
        "        color = None\n",
        "        if labels is not None and len(labels) >= i:\n",
        "            label = labels[i]\n",
        "        if colors is not None and len(colors) >= i:\n",
        "            color = colors[i]\n",
        "        ax.scatter(xs[i], ys[i], label=label, color=color)\n",
        "\n",
        "    if labels is not None:\n",
        "        ax.legend()\n",
        "    ax.grid(True)\n",
        "    fig.show()\n",
        "\n",
        "plot_scatter([ds[:, 0]], [ds[:, 1]], labels=['data pints'], colors=['purple'])"
      ],
      "execution_count": 2,
      "outputs": [
        {
          "output_type": "display_data",
          "data": {
            "image/png": "[encoded data removed]",
            "text/plain": [
              "<Figure size 432x288 with 1 Axes>"
            ]
          },
          "metadata": {
            "needs_background": "light"
          }
        }
      ]
    },
    {
      "cell_type": "markdown",
      "metadata": {
        "id": "kfMcq9AHEabL"
      },
      "source": [
        "## Part a: Computing Gram matrices\n",
        "\n",
        "Implement the following methods for computing **A** and **B**."
      ]
    },
    {
      "cell_type": "code",
      "metadata": {
        "ExecuteTime": {
          "end_time": "2021-03-11T21:12:46.685307Z",
          "start_time": "2021-03-11T21:12:35.661256Z"
        },
        "id": "SqcNfjOTDz2j"
      },
      "source": [
        "def dot_gram(ds):\n",
        "    \"\"\"\n",
        "    IMPLEMENT ME\n",
        "    Computes the Gram matrix w.r.t the inner product\n",
        "    :param ds: dataset\n",
        "    :return: The Gram matrix\n",
        "    \"\"\"\n",
        "    # Hint: You may use the polynomial_kernel function in the sklearn module (be careful about the parameters) or use numpy \n",
        "    gram = metrics.pairwise.polynomial_kernel(ds, ds, gamma = 1, degree=1, coef0=0)\n",
        "    return gram;\n",
        "\n",
        "def quadratic_gram(ds):\n",
        "    \"\"\"\n",
        "    IMPLEMENT ME\n",
        "    Computes the Gram matrix w.r.t the quadratic kernel\n",
        "    :param ds: dataset\n",
        "    :return: The Gram matrix\n",
        "    \"\"\"\n",
        "    quad_gram = metrics.pairwise.polynomial_kernel(ds, ds, gamma = 1, degree=2, coef0=1)\n",
        "    return quad_gram\n",
        "\n",
        "A = dot_gram(ds)\n",
        "B = quadratic_gram(ds)\n",
        "assert A.shape == (100, 100), 'The shape of A must be 100x100'\n",
        "assert A.dtype == np.float64, 'The type of A must be float64'\n",
        "assert B.shape == (100, 100), 'The shape of B must be 100x100'\n",
        "assert B.dtype == np.float64, 'The type of B must be float64'"
      ],
      "execution_count": 3,
      "outputs": []
    },
    {
      "cell_type": "markdown",
      "source": [
        "#Part b: Computing rank, eigendecomposition and positive semi-definiteness\n",
        "Implement the following section to compute the rank, eigendecomposition and positive semi-definiteness of A and B."
      ],
      "metadata": {
        "id": "pCVvE5FgW42V"
      }
    },
    {
      "cell_type": "code",
      "metadata": {
        "ExecuteTime": {
          "start_time": "2021-03-11T21:12:57.723Z"
        },
        "id": "0itXRhM8D2MB",
        "colab": {
          "base_uri": "https://localhost:8080/"
        },
        "outputId": "5a23f643-e6e8-4fc6-ed43-a7ea6165d4ca"
      },
      "source": [
        "def compute_rank(m):\n",
        "    \"\"\"\n",
        "    IMPLEMENT ME\n",
        "    Computes the rank of a matrix\n",
        "    :param m: The matrix to compute the rank of\n",
        "    :return: An integer, i.e, the rank of m\n",
        "    \"\"\"\n",
        "    rank = np.linalg.matrix_rank(m);\n",
        "    return rank;\n",
        "\n",
        "def compute_eigendecomposition(m):\n",
        "    \"\"\"\n",
        "    IMPLEMENT ME\n",
        "    Computes the eigendecomposition of a matrix\n",
        "    :param m: The matrix to compute the eigendocomposition of\n",
        "    :return: (eigenvalues, eigenvectors)\n",
        "    \"\"\"\n",
        "    eigenvalues, eigenvectors = np.linalg.eig(m);\n",
        "    return eigenvalues, eigenvectors\n",
        "\n",
        "def is_positive_semi_definite(m):\n",
        "    \"\"\"\n",
        "    IMPLEMENT ME\n",
        "    Whether m is positive semi-definite or not\n",
        "    :param m: The matrix to see if it is positive semi-definite or not\n",
        "    :return: A boolean, True if m is positive semi-definite, False otherwise\n",
        "    \"\"\"\n",
        "    # For this part, consider any number x that satisfies -EPS < x < EPS as zero\n",
        "    \n",
        "    eigenvalues, eigenvectors = compute_eigendecomposition(m);\n",
        "    modified_eigenvalues = np.where((eigenvalues < EPS) & (eigenvalues > -EPS), 0, eigenvalues)\n",
        "    return np.all(modified_eigenvalues >= 0)\n",
        "\n",
        "A_rank = compute_rank(A)\n",
        "print('The rank of A is', A_rank)\n",
        "\n",
        "B_rank = compute_rank(B)\n",
        "print('The rank of B is', B_rank)\n",
        "\n",
        "A_eig_vals, A_eig_vecs = compute_eigendecomposition(A)\n",
        "assert np.allclose(np.matmul(np.matmul(A_eig_vecs, np.diag(A_eig_vals)), linalg.inv(A_eig_vecs)),\n",
        "                    A), 'eigendecomposition of A is not correct'\n",
        "\n",
        "B_eig_vals, B_eig_vecs = compute_eigendecomposition(B)\n",
        "assert np.allclose(np.matmul(np.matmul(B_eig_vecs, np.diag(B_eig_vals)), linalg.inv(B_eig_vecs)),\n",
        "                    B), 'eigendecomposition of B is not correct'\n",
        "\n",
        "print('A is positive semi-definite:', is_positive_semi_definite(A))\n",
        "print('B is positive semi-definite:', is_positive_semi_definite(B))\n"
      ],
      "execution_count": 4,
      "outputs": [
        {
          "output_type": "stream",
          "name": "stdout",
          "text": [
            "The rank of A is 2\n",
            "The rank of B is 6\n",
            "A is positive semi-definite: True\n",
            "B is positive semi-definite: True\n"
          ]
        }
      ]
    },
    {
      "cell_type": "code",
      "source": [
        ""
      ],
      "metadata": {
        "id": "zeK35nYKha0E"
      },
      "execution_count": 4,
      "outputs": []
    },
    {
      "cell_type": "markdown",
      "metadata": {
        "id": "0ALGe4cE_z1B"
      },
      "source": [
        "## Part c: Computing Cholesky decomposition of a symmetric positive semi-definite matrix\n",
        "\n",
        "Implement the following method to compute the particular Cholesky decomposition of a symmetric positive semi-definite matrix defined in the question, i.e.: $M^\\circ$. Note: the built-in function for Cholesky decomposition in Numpy and Scipy cannot be used, and would not give correct results because the resulting matrix is constrained to be lower triangular. "
      ]
    },
    {
      "cell_type": "code",
      "source": [
        "def compute_chol(m):\n",
        "    \"\"\"\n",
        "    IMPLEMENT ME\n",
        "    Computes m^(\\circ) for a symmetric positive semi-definite matrix m\n",
        "    :param m: A symmetric positive semi-definite matrix\n",
        "    :return: m^(\\circ)\n",
        "    \"\"\"\n",
        "    # Hint: for any diagonal matrix D with non-negative entries, D^(1/2) is a matrix where its elements are square root of the elements of D\n",
        "    eig_val, eig_vec = compute_eigendecomposition(m);\n",
        "    eig_val_sqrt = np.sqrt(eig_val);\n",
        "    R = np.matmul(eig_vec, np.diag(eig_val_sqrt));\n",
        "    return R;\n",
        "  \n",
        "A_chol = compute_chol(A)\n",
        "assert np.allclose(np.matmul(A_chol, A_chol.T), A), 'Cholesky decomposition of A is not correct!'\n",
        "assert A_chol.shape == A.shape, 'Shape of A_chol is wrong!'\n",
        "\n",
        "B_chol = compute_chol(B)\n",
        "assert np.allclose(np.matmul(B_chol, B_chol.T), B), 'Cholesky decomposition of B is not correct!'\n",
        "assert B_chol.shape == B.shape, 'Shape of B_chol is wrong!'\n"
      ],
      "metadata": {
        "id": "5OQAlOzBASQT"
      },
      "execution_count": 5,
      "outputs": []
    },
    {
      "cell_type": "markdown",
      "metadata": {
        "id": "9SHmFNOhHF2-"
      },
      "source": [
        "## Part d: Generating scatter plots of $A^\\circ$ and $B^\\circ$\n",
        "\n",
        "Implement the following method to plot the first two columns of $A^\\circ$ and $B^\\circ$ as requested in the question."
      ]
    },
    {
      "cell_type": "code",
      "source": [
        "def d_plot(A_chol, B_chol):\n",
        "    \"\"\"\n",
        "    IMPLEMENT ME\n",
        "    Generates the two scatter plots as requested in the question\n",
        "    :param A_chol: Cholesky decomposition of A, as defined in the question\n",
        "    :param B_chol: Cholesky decomposition of B, as defined in the question\n",
        "    :return: None\n",
        "    \"\"\"\n",
        "    # Hint: You can use the already implemented plot_scatter function\n",
        "    plot_scatter([A_chol[:, 0]], [A_chol[:, 1]], labels=['data points'], colors=['blue'])\n",
        "    plot_scatter([B_chol[:, 0]], [B_chol[:, 1]], labels=['data points'], colors=['red'])\n",
        "    return None;\n",
        "  \n",
        "d_plot(A_chol.real, B_chol.real)"
      ],
      "metadata": {
        "id": "lOk1PcsUHF3I",
        "colab": {
          "base_uri": "https://localhost:8080/",
          "height": 513
        },
        "outputId": "18920322-eb5d-40d8-c2e8-3e41da4ada7e"
      },
      "execution_count": 6,
      "outputs": [
        {
          "output_type": "display_data",
          "data": {
            "image/png": "[encoded data removed]",
            "text/plain": [
              "<Figure size 432x288 with 1 Axes>"
            ]
          },
          "metadata": {
            "needs_background": "light"
          }
        },
        {
          "output_type": "display_data",
          "data": {
            "image/png": "[encoded data removed]",
            "text/plain": [
              "<Figure size 432x288 with 1 Axes>"
            ]
          },
          "metadata": {
            "needs_background": "light"
          }
        }
      ]
    },
    {
      "cell_type": "markdown",
      "metadata": {
        "id": "ttbRS8OVSgV9"
      },
      "source": [
        "## Part e: Multiple output linear regression for $H$\n",
        "\n",
        "Implement the following methods for solving multiple output linear regression and determining if a matrix is orthogonal."
      ]
    },
    {
      "cell_type": "code",
      "source": [
        "def solve_multiple_output_linear_regression(X, Y):\n",
        "    \"\"\"\n",
        "    IMPLEMENT ME\n",
        "    Solves multiple output linear regression\n",
        "    :param X: X in L(W) = ||Y - XW^T||\n",
        "    :param Y: Y in L(W) = ||Y - XW^T||\n",
        "    :return: W in L(W) = ||Y - XW^T||\n",
        "    \"\"\"\n",
        "    #using W^T = (X^TX)^-1 X^T Y\n",
        "    XTX = np.matmul(X.transpose(), X);\n",
        "    XTX_inv = np.linalg.inv(XTX);\n",
        "    XT = np.matmul(XTX_inv, X.transpose());\n",
        "    WT = np.matmul(XT, Y);\n",
        "    W = WT.transpose();\n",
        "    return W\n",
        "\n",
        "def calc_loss(X, Y, W):\n",
        "    \"\"\"\n",
        "    IMPLEMENT ME\n",
        "    Calculates the loss L(W) = ||Y - XW^T||\n",
        "    :param X: X in L(W) = ||Y - XW^T||\n",
        "    :param Y: Y in L(W) = ||Y - XW^T||\n",
        "    :param W in L(W) = ||Y - XW^T||\n",
        "    :return: The loss\n",
        "    \"\"\"\n",
        "    XWT = np.matmul(X, W.transpose());\n",
        "    L = Y - XWT;\n",
        "    L_norm = np.linalg.norm(L);\n",
        "    L_norm_square = L_norm * L_norm;\n",
        "    return L_norm_square\n",
        "\n",
        "def is_orthogonal(m):\n",
        "    \"\"\"\n",
        "    IMPLEMENT ME\n",
        "    Returns whether a matrix m is orthogonal\n",
        "    :param m: The matrix to see if it is ortogonal\n",
        "    :return: True if m is orthogonal, False otherwise\n",
        "    \"\"\"\n",
        "    # For this part, consider any number x that satisfies -EPS < x < EPS as zero\n",
        "    m_transpose = m.transpose();\n",
        "    I = np.identity(m[0].size);\n",
        "    MMT = np.matmul(m, m_transpose);\n",
        "    MMT = np.where((MMT < EPS) & (MMT > -EPS), 0, MMT)\n",
        "    return np.all(I) == np.all(MMT);\n",
        "\n",
        "W = solve_multiple_output_linear_regression(A_chol[:, 0:2], ds)\n",
        "assert W.shape == (2, 2), 'W does not have correct shape!'\n",
        "\n",
        "loss = calc_loss(A_chol[:, 0:2], ds, W)\n",
        "assert loss < 1e-9, 'The optimal objective value should be below 1e-9'\n",
        "print('W is', W.real)\n",
        "print('The optimal objective value is:', loss)\n",
        "print('W is orthogonal:', is_orthogonal(W))\n"
      ],
      "metadata": {
        "id": "sCfM649XSgWG",
        "colab": {
          "base_uri": "https://localhost:8080/"
        },
        "outputId": "2dab6155-a87b-41ad-dc9e-caf12e1b8b97"
      },
      "execution_count": 7,
      "outputs": [
        {
          "output_type": "stream",
          "name": "stdout",
          "text": [
            "W is [[ 0.99625194  0.08649896]\n",
            " [-0.08649896  0.99625194]]\n",
            "The optimal objective value is: 6.171323950982113e-29\n",
            "W is orthogonal: True\n"
          ]
        }
      ]
    },
    {
      "cell_type": "markdown",
      "metadata": {
        "id": "Zn95fHfyfS-x"
      },
      "source": [
        "## Part f: Multiple output linear regression for $G$\n",
        "\n",
        "For this part we will be using the already implemented methods for solving multiple output linear regression."
      ]
    },
    {
      "cell_type": "code",
      "source": [
        "def x_to_x_tilde(x):\n",
        "    \"\"\"\n",
        "    IMPLEMENT ME\n",
        "    Computes \\tilde{x} which is defined in the question statement\n",
        "    :param x: input x\n",
        "    :return: \\tilde{x}\n",
        "    \"\"\"\n",
        "    # Hint: You can use the plot_scatter function already implemented in common.py\n",
        "    #using X_tilde = (1, sqrt(2)*x1, sqrt(2)*x2, x1^2, sqrt(2)*x1*x2, x2^2)\n",
        "    col1 = x[:, 0];\n",
        "    col2 = x[:, 1];\n",
        "    matrix = np.zeros((x[:, 0].size, 6));\n",
        "    matrix[:, 0] = 1;\n",
        "    matrix[:, 1] = np.sqrt(2)*col1;\n",
        "    matrix[:, 2] = np.sqrt(2)*col2;\n",
        "    matrix[:, 3] = col1*col1;\n",
        "    matrix[:, 4] = np.sqrt(2)*col1*col2;\n",
        "    matrix[:, 5] = col2*col2;\n",
        "    return matrix;\n",
        "\n",
        "ds_tilde = x_to_x_tilde(ds)\n",
        "assert ds_tilde.shape == (100, 6), 'ds_tilde dimensions are not correct!'\n",
        "\n",
        "W = solve_multiple_output_linear_regression(B_chol[:, :6], ds_tilde)\n",
        "assert W.shape == (6, 6), 'W does not have correct shape!'\n",
        "\n",
        "loss = calc_loss(B_chol[:, :6], ds_tilde, W)\n",
        "assert loss < 1e-9, 'The optimal objective value should be below 1e-9'\n",
        "print('W is', W.real)\n",
        "print('The optimal objective value is:', loss)\n",
        "print('W is orthogonal:', is_orthogonal(W))"
      ],
      "metadata": {
        "id": "wNOz7PlQfS-y",
        "colab": {
          "base_uri": "https://localhost:8080/"
        },
        "outputId": "38523ea5-3509-47bd-d3cc-af9bef2dbf56"
      },
      "execution_count": 8,
      "outputs": [
        {
          "output_type": "stream",
          "name": "stdout",
          "text": [
            "W is [[-0.33945437 -0.56162457  0.25130693 -0.45450918  0.54391132  0.06144324]\n",
            " [-0.6152464   0.37636632 -0.43187354 -0.47278791 -0.20911771  0.16139045]\n",
            " [-0.03320234 -0.65049488 -0.44428779  0.23687187 -0.34049721  0.45421993]\n",
            " [-0.70793092  0.0017807   0.29922852  0.62815371 -0.04040879 -0.11438088]\n",
            " [-0.01502782  0.03401647 -0.6722011   0.28746549  0.61066059 -0.30202643]\n",
            " [-0.06122237 -0.34441596 -0.1074542  -0.19123604 -0.41225318 -0.81213248]]\n",
            "The optimal objective value is: 5.8882830392972925e-28\n",
            "W is orthogonal: True\n"
          ]
        }
      ]
    },
    {
      "cell_type": "markdown",
      "metadata": {
        "id": "PsC2JFIrjd8Q"
      },
      "source": [
        "## Part g: Plots as a function of $k$\n",
        "\n",
        "Implement the following methods to produce the requested plots."
      ]
    },
    {
      "cell_type": "code",
      "source": [
        "def plot_values(vals, label=None, color=None):\n",
        "    \"\"\"\n",
        "    READ ME TO UNDERSTAND ME :)\n",
        "    Plots values\n",
        "    :param vals: a list of real numbers, i.e., values to plot\n",
        "    :param label: label of the plot\n",
        "    :param color: color of the plot\n",
        "    :return: None\n",
        "    \"\"\"\n",
        "    fig, ax = plt.subplots()\n",
        "\n",
        "    ax.plot([x + 1 for x in range(len(vals))], vals, label=label, color=color)\n",
        "    ax.legend()\n",
        "    fig.show()\n",
        "\n",
        "def first_plot(B, B_chol):\n",
        "    \"\"\"\n",
        "    IMPLEMENT ME\n",
        "    Plot the first part of `g`\n",
        "    :param B: matrix B defined in the assignment\n",
        "    :param B_chol: Cholesky decomposition of B\n",
        "    :return: None\n",
        "    \"\"\"\n",
        "    # Hint: You can use the plot_values function already implemented in common.py\n",
        "    G = B_chol[:, 0:8];\n",
        "    vals = []  # fill this with values for different k \\in {1...8}\n",
        "    for i in range(8):\n",
        "      g = G[:, i];\n",
        "      gT = g.transpose();\n",
        "      ggT_B = np.matmul(g, gT);\n",
        "      ggT_B = ggT_B - B;\n",
        "      norm = np.linalg.norm(ggT_B);\n",
        "      norm_square = np.square(norm)\n",
        "      vals.append(norm_square);\n",
        "\n",
        "    plot_values(vals, 'first plot for g', color='blue')\n",
        "\n",
        "\n",
        "def second_plot(x_tilde, B):\n",
        "    \"\"\"\n",
        "    IMPLEMENT ME\n",
        "    Plot the second part of `g`\n",
        "    :param x_tilda: \\tilde{x} defined in the question in part f\n",
        "    :param B: matrix B defined in the assignment\n",
        "    :return: None\n",
        "    \"\"\"\n",
        "    # Hint: You can use linalg.svd to compute SVD\n",
        "    # Hint: You can use the plot_values function already implemented in common.py\n",
        "\n",
        "    # Hint: If you need to convert singular values (\\Sigma) to a matrix of a proper\n",
        "    # size, you can use np.vstack to add the missing rows to the diagonal matrix, \\Sigma\n",
        "    U, S, V = np.linalg.svd(x_tilde);\n",
        "    sigma = np.diag(S);\n",
        "    temp = np.zeros((94,6));\n",
        "    S = np.vstack((sigma, temp));\n",
        "    G_tilda = np.matmul(U, S);\n",
        "    Gk_tilda = G_tilda[:, 0:8];\n",
        "    vals = []  # fill this with values for different k \\in {1...8}\n",
        "    for i in range(6):\n",
        "      g = Gk_tilda[:, i];\n",
        "      gT = g.transpose();\n",
        "      ggT_B = np.matmul(g, gT);\n",
        "      ggT_B = ggT_B - B;\n",
        "      norm = np.linalg.norm(ggT_B);\n",
        "      norm_square = np.square(norm)\n",
        "      vals.append(norm_square);\n",
        "\n",
        "    u = U  # assign U (U\\Sigma V^T) to this variable\n",
        "    s = S  # assign \\Sigma (U\\Sigma V^T) to this variable\n",
        "    vh = V  # assign V^T (U\\Sigma V^T) to this variable\n",
        "    # assign the above variables appropriately\n",
        "    assert np.allclose(np.matmul(np.matmul(u, s), vh), x_tilde), \\\n",
        "        'Wrong SVD, make sure dimensions of \\Sigma are appropriate.' \\\n",
        "        'This error goes away once SVD is correct.'\n",
        "\n",
        "    plot_values(vals, 'second plot for g', color='red')\n",
        "\n",
        "first_plot(B, B_chol)\n",
        "second_plot(ds_tilde, B)"
      ],
      "metadata": {
        "id": "Lsba838gjd8b",
        "colab": {
          "base_uri": "https://localhost:8080/",
          "height": 535
        },
        "outputId": "cfc70056-6470-412f-9d51-f498c2a6e3fc"
      },
      "execution_count": 16,
      "outputs": [
        {
          "output_type": "display_data",
          "data": {
            "image/png": "[encoded data removed]",
            "text/plain": [
              "<Figure size 432x288 with 1 Axes>"
            ]
          },
          "metadata": {
            "needs_background": "light"
          }
        },
        {
          "output_type": "display_data",
          "data": {
            "image/png": "[encoded data removed]",
            "text/plain": [
              "<Figure size 432x288 with 1 Axes>"
            ]
          },
          "metadata": {
            "needs_background": "light"
          }
        }
      ]
    },
    {
      "cell_type": "code",
      "source": [
        ""
      ],
      "metadata": {
        "id": "DNJwMOA6agOG"
      },
      "execution_count": null,
      "outputs": []
    }
  ]
}