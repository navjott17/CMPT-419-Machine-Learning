{
  "nbformat": 4,
  "nbformat_minor": 0,
  "metadata": {
    "colab": {
      "name": "CMPT726_419_A2_Q2.ipynb",
      "provenance": [],
      "collapsed_sections": []
    },
    "kernelspec": {
      "name": "python3",
      "display_name": "Python 3"
    },
    "language_info": {
      "name": "python"
    }
  },
  "cells": [
    {
      "cell_type": "markdown",
      "source": [
        "## Before you start"
      ],
      "metadata": {
        "id": "O8PCVAVc2rBR"
      }
    },
    {
      "cell_type": "markdown",
      "source": [
        "We recommend running this notebook on Google Colab to avoid having to install dependencies."
      ],
      "metadata": {
        "id": "kvlEzVrrydlR"
      }
    },
    {
      "cell_type": "markdown",
      "source": [
        "Note:\n",
        "\n",
        "*   You can use any functions provided in the numpy, but not the functions in scipy.\n",
        "*   You should use *numpy.linalg.solve()* to invert a matrix for more numerical stable results rather than *numpy.linalg.inv()*. Refer to [link](http://gregorygundersen.com/blog/2020/12/09/matrix-inversion/) for more details.\n",
        "* Try to avoid for-loops. Refer to [link](https://www.learndatasci.com/tutorials/applied-introduction-to-numpy-python-tutorial/) for more details.\n"
      ],
      "metadata": {
        "id": "48ppzfPv2zb0"
      }
    },
    {
      "cell_type": "markdown",
      "source": [
        "## Load packages"
      ],
      "metadata": {
        "id": "3lLmN7dmyhLo"
      }
    },
    {
      "cell_type": "code",
      "source": [
        "import numpy as np\n",
        "from scipy import stats"
      ],
      "metadata": {
        "id": "Ab7E-pGtym0t"
      },
      "execution_count": null,
      "outputs": []
    },
    {
      "cell_type": "markdown",
      "source": [
        "## Part c: Computing optimal $\\vec{\\gamma}$\n"
      ],
      "metadata": {
        "id": "JlAXyBkAyt-v"
      }
    },
    {
      "cell_type": "markdown",
      "source": [
        "Implement the function below, which defines the input data matrix $\\mathbf{A}$ (variable A) and the vector of desired outputs $\\vec{y}$ (variable y). Calculate the optimal $\\vec{\\gamma}$ (variable gamma_star). All the variables should be the type of np.float64."
      ],
      "metadata": {
        "id": "kpUDqUyqzX6o"
      }
    },
    {
      "cell_type": "code",
      "source": [
        "def part_2c(l, odd_indexed_sum):\n",
        "  \"\"\"\n",
        "  l: Number of possible outcomes.\n",
        "  odd_indexed_sum: Sum of the probability masses of Q at odd-indexed outcomes\n",
        "  return: Input data matrix A, desired outputs y, and optimal parameters gamma_star\n",
        "  \"\"\"\n",
        "  # TODO: Assign the variables below appropriately\n",
        "\n",
        "  c1 = np.ones(10)\n",
        "  c2 = [0, 1, 0, 1, 0, 1, 0, 1, 0, 1]\n",
        "  A = np.column_stack([c1, c2])\n",
        "\n",
        "  y = np.array([[1.0], [0.8]])\n",
        "\n",
        "  A_t = np.transpose(A)\n",
        "  I = np.identity(2)\n",
        "  A_At = np.matmul(A_t, A)\n",
        "  inv = np.linalg.inv(A_At + I)\n",
        "  inv = np.matmul(inv, A_t)\n",
        "  inv = inv*y\n",
        "  gamma_star = inv\n",
        "\n",
        "  return A, y, gamma_star\n",
        "\n",
        "l = 10\n",
        "odd_indexed_sum = 0.8\n",
        "\n",
        "A, y, gamma_star = part_2c(l, odd_indexed_sum)\n",
        "\n",
        "# Do not modify the lines below\n",
        "assert(isinstance(A, np.ndarray))\n",
        "assert(A.dtype == np.float64)\n",
        "assert(isinstance(y, np.ndarray))\n",
        "assert(y.dtype == np.float64)\n",
        "assert(isinstance(gamma_star, np.ndarray))\n",
        "assert(gamma_star.dtype == np.float64)\n",
        "\n",
        "print(\"A:\\n{}\\ny:\\n{}\\n\".format(A, y))\n",
        "print(\"gamma_star:\\n{}\".format(gamma_star))\n",
        "print(\"Prediction:\\n{}\".format(A.dot(gamma_star)))\n",
        "print(\"Loss:\\n{}\".format(np.linalg.norm(y - A.dot(gamma_star))))"
      ],
      "metadata": {
        "id": "iOsP2BEezIFY",
        "colab": {
          "base_uri": "https://localhost:8080/",
          "height": 912
        },
        "outputId": "4019fa97-864c-45c2-888b-aecce1639538"
      },
      "execution_count": null,
      "outputs": [
        {
          "output_type": "stream",
          "name": "stdout",
          "text": [
            "A:\n",
            "[[1. 0.]\n",
            " [1. 1.]\n",
            " [1. 0.]\n",
            " [1. 1.]\n",
            " [1. 0.]\n",
            " [1. 1.]\n",
            " [1. 0.]\n",
            " [1. 1.]\n",
            " [1. 0.]\n",
            " [1. 1.]]\n",
            "y:\n",
            "[[1. ]\n",
            " [0.8]]\n",
            "\n",
            "gamma_star:\n",
            "[[0.04878049 0.14146341 0.04878049 0.14146341 0.04878049 0.14146341\n",
            "  0.04878049 0.14146341 0.04878049 0.14146341]\n",
            " [0.03902439 0.11317073 0.03902439 0.11317073 0.03902439 0.11317073\n",
            "  0.03902439 0.11317073 0.03902439 0.11317073]]\n",
            "Prediction:\n",
            "[[0.04878049 0.14146341 0.04878049 0.14146341 0.04878049 0.14146341\n",
            "  0.04878049 0.14146341 0.04878049 0.14146341]\n",
            " [0.08780488 0.25463415 0.08780488 0.25463415 0.08780488 0.25463415\n",
            "  0.08780488 0.25463415 0.08780488 0.25463415]\n",
            " [0.04878049 0.14146341 0.04878049 0.14146341 0.04878049 0.14146341\n",
            "  0.04878049 0.14146341 0.04878049 0.14146341]\n",
            " [0.08780488 0.25463415 0.08780488 0.25463415 0.08780488 0.25463415\n",
            "  0.08780488 0.25463415 0.08780488 0.25463415]\n",
            " [0.04878049 0.14146341 0.04878049 0.14146341 0.04878049 0.14146341\n",
            "  0.04878049 0.14146341 0.04878049 0.14146341]\n",
            " [0.08780488 0.25463415 0.08780488 0.25463415 0.08780488 0.25463415\n",
            "  0.08780488 0.25463415 0.08780488 0.25463415]\n",
            " [0.04878049 0.14146341 0.04878049 0.14146341 0.04878049 0.14146341\n",
            "  0.04878049 0.14146341 0.04878049 0.14146341]\n",
            " [0.08780488 0.25463415 0.08780488 0.25463415 0.08780488 0.25463415\n",
            "  0.08780488 0.25463415 0.08780488 0.25463415]\n",
            " [0.04878049 0.14146341 0.04878049 0.14146341 0.04878049 0.14146341\n",
            "  0.04878049 0.14146341 0.04878049 0.14146341]\n",
            " [0.08780488 0.25463415 0.08780488 0.25463415 0.08780488 0.25463415\n",
            "  0.08780488 0.25463415 0.08780488 0.25463415]]\n"
          ]
        },
        {
          "output_type": "error",
          "ename": "ValueError",
          "evalue": "ignored",
          "traceback": [
            "\u001b[0;31m---------------------------------------------------------------------------\u001b[0m",
            "\u001b[0;31mValueError\u001b[0m                                Traceback (most recent call last)",
            "\u001b[0;32m<ipython-input-23-50c9cdfd4e19>\u001b[0m in \u001b[0;36m<module>\u001b[0;34m()\u001b[0m\n\u001b[1;32m     39\u001b[0m \u001b[0mprint\u001b[0m\u001b[0;34m(\u001b[0m\u001b[0;34m\"gamma_star:\\n{}\"\u001b[0m\u001b[0;34m.\u001b[0m\u001b[0mformat\u001b[0m\u001b[0;34m(\u001b[0m\u001b[0mgamma_star\u001b[0m\u001b[0;34m)\u001b[0m\u001b[0;34m)\u001b[0m\u001b[0;34m\u001b[0m\u001b[0;34m\u001b[0m\u001b[0m\n\u001b[1;32m     40\u001b[0m \u001b[0mprint\u001b[0m\u001b[0;34m(\u001b[0m\u001b[0;34m\"Prediction:\\n{}\"\u001b[0m\u001b[0;34m.\u001b[0m\u001b[0mformat\u001b[0m\u001b[0;34m(\u001b[0m\u001b[0mA\u001b[0m\u001b[0;34m.\u001b[0m\u001b[0mdot\u001b[0m\u001b[0;34m(\u001b[0m\u001b[0mgamma_star\u001b[0m\u001b[0;34m)\u001b[0m\u001b[0;34m)\u001b[0m\u001b[0;34m)\u001b[0m\u001b[0;34m\u001b[0m\u001b[0;34m\u001b[0m\u001b[0m\n\u001b[0;32m---> 41\u001b[0;31m \u001b[0mprint\u001b[0m\u001b[0;34m(\u001b[0m\u001b[0;34m\"Loss:\\n{}\"\u001b[0m\u001b[0;34m.\u001b[0m\u001b[0mformat\u001b[0m\u001b[0;34m(\u001b[0m\u001b[0mnp\u001b[0m\u001b[0;34m.\u001b[0m\u001b[0mlinalg\u001b[0m\u001b[0;34m.\u001b[0m\u001b[0mnorm\u001b[0m\u001b[0;34m(\u001b[0m\u001b[0my\u001b[0m \u001b[0;34m-\u001b[0m \u001b[0mA\u001b[0m\u001b[0;34m.\u001b[0m\u001b[0mdot\u001b[0m\u001b[0;34m(\u001b[0m\u001b[0mgamma_star\u001b[0m\u001b[0;34m)\u001b[0m\u001b[0;34m)\u001b[0m\u001b[0;34m)\u001b[0m\u001b[0;34m)\u001b[0m\u001b[0;34m\u001b[0m\u001b[0;34m\u001b[0m\u001b[0m\n\u001b[0m",
            "\u001b[0;31mValueError\u001b[0m: operands could not be broadcast together with shapes (2,1) (10,10) "
          ]
        }
      ]
    },
    {
      "cell_type": "markdown",
      "source": [
        "## Part e: Computing optimal $\\mathrm{vec}(\\mathbb{\\Gamma})$\n",
        "\n",
        "\n",
        "\n"
      ],
      "metadata": {
        "id": "NvVICSTF0TCY"
      }
    },
    {
      "cell_type": "markdown",
      "source": [
        "Implement the function below, which defines the data matrix $\\mathbf{A}$ (variable A) and label vector $\\vec{y}$ (variable y). Calculate the optimal $\\mathrm{vec}(\\mathbb{\\Gamma})$ (variable Gamma_star) using the formula derived in part *d*.\n",
        "\n",
        "Note: The $\\vec{p}$, $\\vec{q}$, $\\{u_i\\}_{i=1}^{l}$ and $\\{v_j\\}_{i=1}^{l}$ are given as the variables p, q, U and V."
      ],
      "metadata": {
        "id": "cDwpe-Mp0gND"
      }
    },
    {
      "cell_type": "code",
      "source": [
        "def part_2e(l, p, q, U, V):\n",
        "  \"\"\"\n",
        "  l: Number of possible outcomes.\n",
        "  p: Probability mass function of P.\n",
        "  q: Probability mass function of Q.\n",
        "  U: All possible outcomes of P. \n",
        "  V: All possible outcomes of Q. \n",
        "  return: Input data matrix A, desired outputs y, and optimal parameters Gamma_star\n",
        "  \"\"\"\n",
        "  # TODO: Assign the variables below appropriately\n",
        "\n",
        "  A = None\n",
        "\n",
        "  y = None\n",
        "\n",
        "  Gamma_star = None\n",
        "\n",
        "  return A, y, Gamma_star\n",
        "\n",
        "# Do not modify the lines below\n",
        "\n",
        "U = np.linspace(0, 9, num=10)\n",
        "V = np.linspace(5, 14, num=10)\n",
        "\n",
        "# Poisson distributions\n",
        "p = stats.poisson.pmf(U, mu=4)\n",
        "q = stats.poisson.pmf(V, mu=10)\n",
        "\n",
        "# Normalize distributions\n",
        "p = (p / np.sum(p)).astype(np.float64)\n",
        "q = (q / np.sum(q)).astype(np.float64)\n",
        "\n",
        "l = U.shape[0]  # l = 10\n",
        "\n",
        "A, y, Gamma_star = part_2e(l, p, q, U, V)\n",
        "\n",
        "assert(isinstance(A, np.ndarray))\n",
        "assert(A.dtype == np.float64)\n",
        "assert(isinstance(y, np.ndarray))\n",
        "assert(y.dtype == np.float64)\n",
        "assert(isinstance(Gamma_star, np.ndarray))\n",
        "assert(Gamma_star.dtype == np.float64)\n",
        "\n",
        "print(\"A:\\n{}\\ny:\\n{}\\n\".format(A, y))\n",
        "print(\"Gamma_star:\\n{}\".format(Gamma_star))\n",
        "print(\"Prediction:\\n{}\".format(A.dot(Gamma_star)))\n",
        "print(\"Loss:\\n{}\".format(np.linalg.norm(y - A.dot(Gamma_star))))"
      ],
      "metadata": {
        "id": "T02kDwO-0fk9"
      },
      "execution_count": null,
      "outputs": []
    },
    {
      "cell_type": "markdown",
      "source": [
        "## Part g: Computing optimal $\\mathrm{vec}(\\mathbb{\\Gamma})$"
      ],
      "metadata": {
        "id": "UPv_AIwx2O9D"
      }
    },
    {
      "cell_type": "markdown",
      "source": [
        "Write code below that defines the data matrix $\\mathbf{A}$ (variable A), label vector $\\vec{y}$ (variable y) and distance vector $\\vec{\\lambda}$ (variable la). Calculate the optimal $\\mathrm{vec}(\\mathbb{\\Gamma})$ (variable Gamma_star) with those variables base on part *f*.\n",
        "\n",
        "Note:\n",
        "\n",
        "*   The $\\vec{p}$, $\\vec{q}$, $\\{u_i\\}_{i=1}^{l}$ and $\\{v_j\\}_{i=1}^{l}$ are given as the variables p, q, U and V.\n",
        "*   The distance between $u_i$ and $v_j$ is defined in the given function *distance_between()*, for example distance between $u_i = 2$ and $v_j = 5$ is $\\vert 2 - 5 \\vert$.\n",
        "\n"
      ],
      "metadata": {
        "id": "YpT2fe6D42-B"
      }
    },
    {
      "cell_type": "code",
      "source": [
        "def part_2g(l, p, q, U, V, D):\n",
        "  \"\"\"\n",
        "  l: Number of possible outcomes.\n",
        "  p: Probability mass function of P.\n",
        "  q: Probability mass function of Q.\n",
        "  U: All possible outcomes of P. \n",
        "  V: All possible outcomes of Q. \n",
        "  D: Matrix of distances between U and V. \n",
        "  return: Input data matrix A, desired outputs y, distance vector la and optimal parameters Gamma_star\n",
        "  \"\"\"\n",
        "  # TODO: Assign to the variables below appropriately\n",
        "\n",
        "  A = None\n",
        "\n",
        "  y = None\n",
        "\n",
        "  la = None\n",
        "\n",
        "  Gamma_star = None\n",
        "\n",
        "  return A, y, la, Gamma_star\n",
        "\n",
        "# Do not modify the lines below\n",
        "\n",
        "def distance_between(U, V):\n",
        "    return np.abs(U[:,np.newaxis] - V[np.newaxis,:])\n",
        "\n",
        "U = np.linspace(0, 9, num=10)\n",
        "V = np.linspace(5, 14, num=10)\n",
        "\n",
        "# Poisson distributions\n",
        "p = stats.poisson.pmf(U, mu=4)\n",
        "q = stats.poisson.pmf(V, mu=10)\n",
        "\n",
        "# Normalize distributions\n",
        "p = (p / np.sum(p)).astype(np.float64)\n",
        "q = (q / np.sum(q)).astype(np.float64)\n",
        "\n",
        "l = U.shape[0]  # l = 10\n",
        "\n",
        "D = distance_between(U, V)\n",
        "\n",
        "A, y, la, Gamma_star = part_2g(l, p, q, U, V, D)\n",
        "\n",
        "assert(isinstance(A, np.ndarray))\n",
        "assert(A.dtype == np.float64)\n",
        "assert(isinstance(y, np.ndarray))\n",
        "assert(y.dtype == np.float64)\n",
        "assert(isinstance(la, np.ndarray))\n",
        "assert(la.dtype == np.float64)\n",
        "assert(isinstance(Gamma_star, np.ndarray))\n",
        "assert(Gamma_star.dtype == np.float64)\n",
        "\n",
        "print(\"A:\\n{}\\ny:\\n{}\\nlambda:\\n{}\".format(A, y, la.transpose(1, 0)))\n",
        "print(\"Gamma_star:\\n{}\".format(Gamma_star))\n",
        "print(\"Prediction:\\n{}\".format(A.dot(Gamma_star)))\n",
        "print(\"Loss:\\n{}\".format(np.linalg.norm(y - A.dot(Gamma_star))))"
      ],
      "metadata": {
        "id": "jv2r7rvy5CGf"
      },
      "execution_count": null,
      "outputs": []
    }
  ]
}