{
  "cells": [
    {
      "cell_type": "markdown",
      "metadata": {
        "id": "7jWB8moSjywe"
      },
      "source": [
        "# **CMPT 726/419 A3 Q4: Neural Networks in PyTorch**\n",
        "\n",
        "Do not edit any cells until told to do so—the ones directly below should not be changed so you can access the required data and model for this problem."
      ]
    },
    {
      "cell_type": "code",
      "execution_count": 1,
      "metadata": {
        "id": "gOxA_2m94JJy"
      },
      "outputs": [],
      "source": [
        "from tqdm.notebook import tqdm\n",
        "import csv\n",
        "\n",
        "import torch\n",
        "import torch.nn as nn\n",
        "from torch.optim import Adam, SGD\n",
        "from torch.utils.data import Dataset, DataLoader, Subset\n",
        "from torch.optim.lr_scheduler import CosineAnnealingLR\n",
        "\n",
        "from torchvision import transforms\n",
        "from torchvision.datasets import CIFAR10\n",
        "\n",
        "device = torch.device(\"cuda\" if torch.cuda.is_available() else \"cpu\")"
      ]
    },
    {
      "cell_type": "code",
      "execution_count": 2,
      "metadata": {
        "id": "ZvdWYh6fiAFg"
      },
      "outputs": [],
      "source": [
        "class XYDataset(Dataset):\n",
        "    \"\"\"A basic dataset where the underlying data is a list of (x,y) tuples. Data\n",
        "    returned from the dataset should be a (transform(x), y) tuple.\n",
        "    Args:\n",
        "    source      -- a list of (x,y) data samples\n",
        "    transform   -- a torchvision.transforms transform\n",
        "    \"\"\"\n",
        "    def __init__(self, source, transform=transforms.ToTensor()):\n",
        "        super(XYDataset, self).__init__()\n",
        "        self.source = source\n",
        "        self.transform = transform\n",
        "\n",
        "    def __len__(self): return len(self.source)\n",
        "    \n",
        "    def __getitem__(self, idx):\n",
        "        x,y = self.source[idx]\n",
        "        return self.transform(x), y\n",
        "\n",
        "def build_dataset():\n",
        "    \"\"\"Returns the subset of the CIFAR-10 dataset containing only horses and\n",
        "    deer, with the labels for each class modified to zero and one respectively.\n",
        "    \"\"\"\n",
        "    transform = transforms.Compose([\n",
        "        transforms.RandomHorizontalFlip(),\n",
        "        transforms.RandomResizedCrop(32, scale=(0.75, 1.0)),\n",
        "        transforms.ToTensor()])\n",
        "\n",
        "    data = CIFAR10(root=\".\", train=True, download=True)\n",
        "    data = [(x, (0 if y == 2 else 1)) for x,y in data if y in {2, 5}]\n",
        "    return XYDataset(data, transform=transform)"
      ]
    },
    {
      "cell_type": "code",
      "execution_count": 3,
      "metadata": {
        "id": "I-RsUADD1PBB"
      },
      "outputs": [],
      "source": [
        "def generate_test_predictions(model):\n",
        "    \"\"\"Generates test predictions using [model].\"\"\"\n",
        "    data_te = torch.load(\"cifar2_te.pt\")\n",
        "    loader = DataLoader(data_te, batch_size=128, num_workers=6, shuffle=False)\n",
        "    preds = []\n",
        "    with torch.no_grad():\n",
        "        for x,_ in loader:\n",
        "            fx = model(x.to(device))\n",
        "            preds += (fx > .5).float().view(-1).cpu().tolist()\n",
        "\n",
        "    with open(\"test_predictions.csv\", \"w+\") as f:\n",
        "        writer = csv.writer(f)\n",
        "        writer.writerow([\"Id\", \"Category\"])\n",
        "        for idx,p in enumerate(preds):\n",
        "            writer.writerow([str(idx), str(int(p))])\n",
        "    tqdm.write(\"Wrote model predictions to test_predictions.csv\")"
      ]
    },
    {
      "cell_type": "code",
      "execution_count": 4,
      "metadata": {
        "id": "CwNWWjBHeRYu"
      },
      "outputs": [],
      "source": [
        "class NN(nn.Module):\n",
        "    \"\"\"A simple ConvNet for binary classification.\"\"\"\n",
        "    def __init__(self):\n",
        "        super(NN, self).__init__()\n",
        "        self.c1 = nn.Conv2d(3, 32, kernel_size=3)\n",
        "        self.c2 = nn.Conv2d(32, 32, kernel_size=3)\n",
        "        self.fc = nn.Linear(25088, 1)\n",
        "        self.relu = nn.ReLU()\n",
        "        self.sigmoid = nn.Sigmoid()\n",
        "\n",
        "    def forward(self, x):\n",
        "        bs = len(x)\n",
        "        fx = self.c1(x)\n",
        "        fx = self.relu(fx)\n",
        "        fx = self.c2(fx)\n",
        "        fx = self.relu(fx)\n",
        "        fx = fx.view(bs, -1)\n",
        "        fx = self.fc(fx)\n",
        "        fx = self.sigmoid(fx)\n",
        "        return fx.view(-1)"
      ]
    },
    {
      "cell_type": "markdown",
      "metadata": {
        "id": "EvCUQ8AJkZf1"
      },
      "source": [
        "\n",
        "### ----- EDIT NO CODE ABOVE THIS CELL -----\n",
        "### ----- EDIT CODE BENEATH THIS CELL -----\n",
        "\n",
        "\n",
        "\n"
      ]
    },
    {
      "cell_type": "code",
      "execution_count": 5,
      "metadata": {
        "id": "MtA0_XyQyBfW"
      },
      "outputs": [],
      "source": [
        "def validate(model, loader):\n",
        "    \"\"\"Returns a (acc_val, loss_val) tuple, where [acc_val] and [loss_val] are\n",
        "    respectively the validation accuracy and loss of [model] on the data in\n",
        "    [loader].\n",
        "\n",
        "    Args:\n",
        "    model   -- a model, already moved onto the GPU\n",
        "    loader  -- a DataLoader over validation data\n",
        "    \"\"\"\n",
        "    assert isinstance(model, NN)\n",
        "    assert isinstance(loader, DataLoader)\n",
        "    # loader = loader.float()\n",
        "    acc_val, loss_val = 0, 0\n",
        "    loss_fn = nn.BCELoss(reduction=\"mean\")\n",
        "    ##### YOUR CODE STARTS HERE (redefine [acc_val] and [loss_val] somewhere) ##\n",
        "    total = 0\n",
        "    correct = 0\n",
        "    with torch.no_grad():\n",
        "      for data in (loader):\n",
        "        images, labels = data\n",
        "        output = model(images)\n",
        "        _, predicted = torch.max(output.data, 0)\n",
        "        total += labels.size(0)\n",
        "        correct += (predicted == labels).sum().item()\n",
        "        loss = loss_fn(output, labels.float())\n",
        "        loss_val = loss.item()\n",
        "        acc_val = 100*correct*(1.0) // total\n",
        "\n",
        "    ##### YOUR CODE ENDS HERE   ################################################\n",
        "    return acc_val, loss_val"
      ]
    },
    {
      "cell_type": "code",
      "execution_count": 6,
      "metadata": {
        "id": "n6iPZe_ZlCCa"
      },
      "outputs": [],
      "source": [
        "def one_epoch(model, optimizer, loader):\n",
        "    \"\"\"Returns a (model, optimizer, avg_loss) tuple after training [model] on\n",
        "    the data in [loader] for one epoch.\n",
        "\n",
        "    Args:\n",
        "    model       -- the neural network to train, already moved onto the GPU\n",
        "    optimizer   -- the optimizer used to train [model]\n",
        "    loader      -- a DataLoader with data to train [model] on\n",
        "\n",
        "    Returns\n",
        "    model       -- [model] after training for one epoch\n",
        "    optimizer   -- the optimizer used to train [model]\n",
        "    avg_loss    -- the average loss of [model] on each batch of [loader]\n",
        "    \"\"\"\n",
        "    assert isinstance(model, NN)\n",
        "    assert isinstance(optimizer, torch.optim.Optimizer)\n",
        "    assert isinstance(loader, DataLoader)\n",
        "    \n",
        "    avg_loss = 0\n",
        "    loss_fn = nn.BCELoss(reduction=\"mean\")\n",
        "    ##### YOUR CODE STARTS HERE (redefine [avg_loss] somewhere) ################\n",
        "    \n",
        "    loss_data = 0\n",
        "    for data in (loader):\n",
        "      images, labels = data\n",
        "      optimizer.zero_grad()\n",
        "      output = model(images)\n",
        "      loss = loss_fn(output, labels.float())\n",
        "      loss.backward()\n",
        "      optimizer.step()\n",
        "      loss_data = loss.item()\n",
        "    \n",
        "    avg_loss = loss_data/loader.batch_size\n",
        "   \n",
        "    ##### YOUR CODE ENDS HERE   ################################################\n",
        "    return model, optimizer, avg_loss"
      ]
    },
    {
      "cell_type": "markdown",
      "metadata": {
        "id": "K1soS9WvG0LG"
      },
      "source": [
        "Next, write a function to take a set of hyperparameters and return a `(model, acc_val)` tuple with the model having been trained with the hyperparameters and `acc_val` being the validation accuracy of the model after training.\n",
        "\n",
        "Note the `**kwargs` in the function definition. This means that the function can take\n",
        "any number of keyword arguments as input, and they will be accessible inside the function despite not being specified in the function definition, and they will be accessible within dictionary named `kwargs` inside the function.\n",
        "\n",
        "_By passing in arguments this way, you can define whatever hyperparameters you want to use and pass them in!_"
      ]
    },
    {
      "cell_type": "code",
      "execution_count": 53,
      "metadata": {
        "id": "G5jkETP4EdDH"
      },
      "outputs": [],
      "source": [
        "def train_and_validate(data_tr, data_val, **hyperparameters):\n",
        "    \"\"\"Returns a (model, acc_val) tuple where [model] is a neural\n",
        "    network of the NN class trained with [hyperparameters] on [data_tr] and \n",
        "    validated on [data_val], and [acc_val] is the validation accuracy of the\n",
        "    model after training.\n",
        "\n",
        "    Args:\n",
        "    data_tr         -- Dataset of training data\n",
        "    data_val        -- Dataset of validation data\n",
        "    hyperparameters -- kwarg dictionary of hyperparameters\n",
        "    \"\"\"\n",
        "    assert isinstance(data_tr, torch.utils.data.Dataset)\n",
        "    assert isinstance(data_val, torch.utils.data.Dataset)\n",
        "    \n",
        "    model, acc_val = NN(), 0\n",
        "    ##### YOUR CODE STARTS HERE (redefine [model] and [acc_val] somewhere) #####\n",
        "    epochs = 25\n",
        "    data_loader1 = DataLoader(data_tr, batch_size = hyperparameters.get(\"batch_size\")) \n",
        "    data_loader2 = DataLoader(data_val, batch_size = hyperparameters.get(\"batch_size\"))\n",
        "    optimizer = SGD(model.parameters(), lr = hyperparameters.get(\"lr\"), \n",
        "                    momentum = hyperparameters.get(\"momentum\"), \n",
        "                    weight_decay = hyperparameters.get(\"weight_decay\"))\n",
        "    scheduler = torch.optim.lr_scheduler.ExponentialLR(optimizer, gamma=0.01)\n",
        "    for i in tqdm(range(epochs)):\n",
        "      model, optimizer, avg_loss = one_epoch(model, optimizer, data_loader1)\n",
        "      acc_val, loss_val = validate(model, data_loader2)\n",
        "      print(\"accuracy:\", acc_val, \"loss:\", loss_val)\n",
        "      scheduler.step()\n",
        "\n",
        "    ##### YOUR CODE ENDS HERE   ################################################\n",
        "    return model, acc_val"
      ]
    },
    {
      "cell_type": "code",
      "execution_count": 56,
      "metadata": {
        "colab": {
          "base_uri": "https://localhost:8080/",
          "height": 500,
          "referenced_widgets": [
            "c667509cc9b144c3a6355ddc334abeec",
            "47c7174874244bb7a1d40f93113eca60",
            "bed4e6b0282d4ab4ac6cebf131e3761c",
            "bf88c9ab817942759729376a6f06bdae",
            "55c8bc27872947d193c6b8c89ae9abf8",
            "2e15b08f2d95401ca170f53a46b390b2",
            "7f47029b29424599945e3087186d767c",
            "d142569595e046f9a61fa3d2da6abf00",
            "13811b7a9f3642a0b65dd2c42b038d1a",
            "96584afd6bb241a4b198a77e50b4026c",
            "f9d2e4bf7cbe444c8a5bb07ae589b32c"
          ]
        },
        "id": "46UtCZJCFRXf",
        "outputId": "40b349e1-b8ea-4733-f354-edd566312bb5"
      },
      "outputs": [
        {
          "output_type": "stream",
          "name": "stdout",
          "text": [
            "Files already downloaded and verified\n"
          ]
        },
        {
          "output_type": "display_data",
          "data": {
            "text/plain": [
              "  0%|          | 0/25 [00:00<?, ?it/s]"
            ],
            "application/vnd.jupyter.widget-view+json": {
              "version_major": 2,
              "version_minor": 0,
              "model_id": "c667509cc9b144c3a6355ddc334abeec"
            }
          },
          "metadata": {}
        },
        {
          "output_type": "stream",
          "name": "stdout",
          "text": [
            "accuracy: 51.0 loss: 0.704414427280426\n",
            "accuracy: 51.0 loss: 0.6931476593017578\n",
            "accuracy: 51.0 loss: 0.6931479573249817\n",
            "accuracy: 51.0 loss: 0.6931479573249817\n",
            "accuracy: 51.0 loss: 0.6931479573249817\n",
            "accuracy: 51.0 loss: 0.6931479573249817\n",
            "accuracy: 51.0 loss: 0.6931479573249817\n",
            "accuracy: 51.0 loss: 0.6931479573249817\n",
            "accuracy: 51.0 loss: 0.6931479573249817\n",
            "accuracy: 51.0 loss: 0.6931479573249817\n",
            "accuracy: 51.0 loss: 0.6931479573249817\n",
            "accuracy: 51.0 loss: 0.6931479573249817\n",
            "accuracy: 51.0 loss: 0.6931479573249817\n",
            "accuracy: 51.0 loss: 0.6931479573249817\n",
            "accuracy: 51.0 loss: 0.6931479573249817\n",
            "accuracy: 50.0 loss: 0.6931479573249817\n",
            "accuracy: 51.0 loss: 0.6931479573249817\n",
            "accuracy: 51.0 loss: 0.6931479573249817\n",
            "accuracy: 51.0 loss: 0.6931479573249817\n",
            "accuracy: 51.0 loss: 0.6931479573249817\n",
            "accuracy: 51.0 loss: 0.6931479573249817\n",
            "accuracy: 51.0 loss: 0.6931479573249817\n",
            "accuracy: 51.0 loss: 0.6931479573249817\n",
            "accuracy: 51.0 loss: 0.6931479573249817\n",
            "accuracy: 51.0 loss: 0.6931479573249817\n"
          ]
        }
      ],
      "source": [
        "################################################################################\n",
        "# Do hyperparameter search using train_and_validate(). You should call\n",
        "# generate_test_predictions() on the model you eventually compute as best to \n",
        "# get test predictions to submit to Kaggle. You should also split off some of\n",
        "# the \n",
        "data = build_dataset()  # You should use this data for training and validation\n",
        "best_model = NN()       # You should at some point name the model you want to\n",
        "                        # generate test predictions with `best_model`\n",
        "                        \n",
        "##### YOUR CODE STARTS HERE ####################################################\n",
        "\n",
        "train_data, val_data = torch.utils.data.random_split(data, [8000, 2000])\n",
        "parameters = {\"batch_size\": 4, \"lr\": 0.1, \"momentum\": 0.9, \"weight_decay\": 1e-6}\n",
        "model, acc_val = train_and_validate(train_data, val_data, **parameters)\n",
        "\n",
        "##### YOUR CODE ENDS HERE   ####################################################"
      ]
    },
    {
      "cell_type": "code",
      "execution_count": 57,
      "metadata": {
        "colab": {
          "base_uri": "https://localhost:8080/"
        },
        "id": "tYeTSbWP-o3m",
        "outputId": "2a7f9ec9-7503-4eb9-cf7c-fd9b09005f99"
      },
      "outputs": [
        {
          "output_type": "stream",
          "name": "stderr",
          "text": [
            "/usr/local/lib/python3.7/dist-packages/torch/utils/data/dataloader.py:481: UserWarning: This DataLoader will create 6 worker processes in total. Our suggested max number of worker in current system is 2, which is smaller than what this DataLoader is going to create. Please be aware that excessive worker creation might get DataLoader running slow or even freeze, lower the worker number to avoid potential slowness/freeze if necessary.\n",
            "  cpuset_checked))\n"
          ]
        },
        {
          "output_type": "stream",
          "name": "stdout",
          "text": [
            "Wrote model predictions to test_predictions.csv\n"
          ]
        }
      ],
      "source": [
        "generate_test_predictions(best_model)"
      ]
    },
    {
      "cell_type": "code",
      "source": [
        ""
      ],
      "metadata": {
        "id": "_SrMfYiZ7vFw"
      },
      "execution_count": null,
      "outputs": []
    },
    {
      "cell_type": "code",
      "source": [
        ""
      ],
      "metadata": {
        "id": "Qbpy4FwcNLAG"
      },
      "execution_count": null,
      "outputs": []
    }
  ],
  "metadata": {
    "colab": {
      "collapsed_sections": [],
      "name": "Hyperparameter_Starter.ipynb",
      "provenance": []
    },
    "kernelspec": {
      "display_name": "Python 3",
      "name": "python3"
    },
    "language_info": {
      "name": "python"
    },
    "widgets": {
      "application/vnd.jupyter.widget-state+json": {
        "c667509cc9b144c3a6355ddc334abeec": {
          "model_module": "@jupyter-widgets/controls",
          "model_name": "HBoxModel",
          "model_module_version": "1.5.0",
          "state": {
            "_dom_classes": [],
            "_model_module": "@jupyter-widgets/controls",
            "_model_module_version": "1.5.0",
            "_model_name": "HBoxModel",
            "_view_count": null,
            "_view_module": "@jupyter-widgets/controls",
            "_view_module_version": "1.5.0",
            "_view_name": "HBoxView",
            "box_style": "",
            "children": [
              "IPY_MODEL_47c7174874244bb7a1d40f93113eca60",
              "IPY_MODEL_bed4e6b0282d4ab4ac6cebf131e3761c",
              "IPY_MODEL_bf88c9ab817942759729376a6f06bdae"
            ],
            "layout": "IPY_MODEL_55c8bc27872947d193c6b8c89ae9abf8"
          }
        },
        "47c7174874244bb7a1d40f93113eca60": {
          "model_module": "@jupyter-widgets/controls",
          "model_name": "HTMLModel",
          "model_module_version": "1.5.0",
          "state": {
            "_dom_classes": [],
            "_model_module": "@jupyter-widgets/controls",
            "_model_module_version": "1.5.0",
            "_model_name": "HTMLModel",
            "_view_count": null,
            "_view_module": "@jupyter-widgets/controls",
            "_view_module_version": "1.5.0",
            "_view_name": "HTMLView",
            "description": "",
            "description_tooltip": null,
            "layout": "IPY_MODEL_2e15b08f2d95401ca170f53a46b390b2",
            "placeholder": "​",
            "style": "IPY_MODEL_7f47029b29424599945e3087186d767c",
            "value": "100%"
          }
        },
        "bed4e6b0282d4ab4ac6cebf131e3761c": {
          "model_module": "@jupyter-widgets/controls",
          "model_name": "FloatProgressModel",
          "model_module_version": "1.5.0",
          "state": {
            "_dom_classes": [],
            "_model_module": "@jupyter-widgets/controls",
            "_model_module_version": "1.5.0",
            "_model_name": "FloatProgressModel",
            "_view_count": null,
            "_view_module": "@jupyter-widgets/controls",
            "_view_module_version": "1.5.0",
            "_view_name": "ProgressView",
            "bar_style": "success",
            "description": "",
            "description_tooltip": null,
            "layout": "IPY_MODEL_d142569595e046f9a61fa3d2da6abf00",
            "max": 25,
            "min": 0,
            "orientation": "horizontal",
            "style": "IPY_MODEL_13811b7a9f3642a0b65dd2c42b038d1a",
            "value": 25
          }
        },
        "bf88c9ab817942759729376a6f06bdae": {
          "model_module": "@jupyter-widgets/controls",
          "model_name": "HTMLModel",
          "model_module_version": "1.5.0",
          "state": {
            "_dom_classes": [],
            "_model_module": "@jupyter-widgets/controls",
            "_model_module_version": "1.5.0",
            "_model_name": "HTMLModel",
            "_view_count": null,
            "_view_module": "@jupyter-widgets/controls",
            "_view_module_version": "1.5.0",
            "_view_name": "HTMLView",
            "description": "",
            "description_tooltip": null,
            "layout": "IPY_MODEL_96584afd6bb241a4b198a77e50b4026c",
            "placeholder": "​",
            "style": "IPY_MODEL_f9d2e4bf7cbe444c8a5bb07ae589b32c",
            "value": " 25/25 [07:49&lt;00:00, 18.77s/it]"
          }
        },
        "55c8bc27872947d193c6b8c89ae9abf8": {
          "model_module": "@jupyter-widgets/base",
          "model_name": "LayoutModel",
          "model_module_version": "1.2.0",
          "state": {
            "_model_module": "@jupyter-widgets/base",
            "_model_module_version": "1.2.0",
            "_model_name": "LayoutModel",
            "_view_count": null,
            "_view_module": "@jupyter-widgets/base",
            "_view_module_version": "1.2.0",
            "_view_name": "LayoutView",
            "align_content": null,
            "align_items": null,
            "align_self": null,
            "border": null,
            "bottom": null,
            "display": null,
            "flex": null,
            "flex_flow": null,
            "grid_area": null,
            "grid_auto_columns": null,
            "grid_auto_flow": null,
            "grid_auto_rows": null,
            "grid_column": null,
            "grid_gap": null,
            "grid_row": null,
            "grid_template_areas": null,
            "grid_template_columns": null,
            "grid_template_rows": null,
            "height": null,
            "justify_content": null,
            "justify_items": null,
            "left": null,
            "margin": null,
            "max_height": null,
            "max_width": null,
            "min_height": null,
            "min_width": null,
            "object_fit": null,
            "object_position": null,
            "order": null,
            "overflow": null,
            "overflow_x": null,
            "overflow_y": null,
            "padding": null,
            "right": null,
            "top": null,
            "visibility": null,
            "width": null
          }
        },
        "2e15b08f2d95401ca170f53a46b390b2": {
          "model_module": "@jupyter-widgets/base",
          "model_name": "LayoutModel",
          "model_module_version": "1.2.0",
          "state": {
            "_model_module": "@jupyter-widgets/base",
            "_model_module_version": "1.2.0",
            "_model_name": "LayoutModel",
            "_view_count": null,
            "_view_module": "@jupyter-widgets/base",
            "_view_module_version": "1.2.0",
            "_view_name": "LayoutView",
            "align_content": null,
            "align_items": null,
            "align_self": null,
            "border": null,
            "bottom": null,
            "display": null,
            "flex": null,
            "flex_flow": null,
            "grid_area": null,
            "grid_auto_columns": null,
            "grid_auto_flow": null,
            "grid_auto_rows": null,
            "grid_column": null,
            "grid_gap": null,
            "grid_row": null,
            "grid_template_areas": null,
            "grid_template_columns": null,
            "grid_template_rows": null,
            "height": null,
            "justify_content": null,
            "justify_items": null,
            "left": null,
            "margin": null,
            "max_height": null,
            "max_width": null,
            "min_height": null,
            "min_width": null,
            "object_fit": null,
            "object_position": null,
            "order": null,
            "overflow": null,
            "overflow_x": null,
            "overflow_y": null,
            "padding": null,
            "right": null,
            "top": null,
            "visibility": null,
            "width": null
          }
        },
        "7f47029b29424599945e3087186d767c": {
          "model_module": "@jupyter-widgets/controls",
          "model_name": "DescriptionStyleModel",
          "model_module_version": "1.5.0",
          "state": {
            "_model_module": "@jupyter-widgets/controls",
            "_model_module_version": "1.5.0",
            "_model_name": "DescriptionStyleModel",
            "_view_count": null,
            "_view_module": "@jupyter-widgets/base",
            "_view_module_version": "1.2.0",
            "_view_name": "StyleView",
            "description_width": ""
          }
        },
        "d142569595e046f9a61fa3d2da6abf00": {
          "model_module": "@jupyter-widgets/base",
          "model_name": "LayoutModel",
          "model_module_version": "1.2.0",
          "state": {
            "_model_module": "@jupyter-widgets/base",
            "_model_module_version": "1.2.0",
            "_model_name": "LayoutModel",
            "_view_count": null,
            "_view_module": "@jupyter-widgets/base",
            "_view_module_version": "1.2.0",
            "_view_name": "LayoutView",
            "align_content": null,
            "align_items": null,
            "align_self": null,
            "border": null,
            "bottom": null,
            "display": null,
            "flex": null,
            "flex_flow": null,
            "grid_area": null,
            "grid_auto_columns": null,
            "grid_auto_flow": null,
            "grid_auto_rows": null,
            "grid_column": null,
            "grid_gap": null,
            "grid_row": null,
            "grid_template_areas": null,
            "grid_template_columns": null,
            "grid_template_rows": null,
            "height": null,
            "justify_content": null,
            "justify_items": null,
            "left": null,
            "margin": null,
            "max_height": null,
            "max_width": null,
            "min_height": null,
            "min_width": null,
            "object_fit": null,
            "object_position": null,
            "order": null,
            "overflow": null,
            "overflow_x": null,
            "overflow_y": null,
            "padding": null,
            "right": null,
            "top": null,
            "visibility": null,
            "width": null
          }
        },
        "13811b7a9f3642a0b65dd2c42b038d1a": {
          "model_module": "@jupyter-widgets/controls",
          "model_name": "ProgressStyleModel",
          "model_module_version": "1.5.0",
          "state": {
            "_model_module": "@jupyter-widgets/controls",
            "_model_module_version": "1.5.0",
            "_model_name": "ProgressStyleModel",
            "_view_count": null,
            "_view_module": "@jupyter-widgets/base",
            "_view_module_version": "1.2.0",
            "_view_name": "StyleView",
            "bar_color": null,
            "description_width": ""
          }
        },
        "96584afd6bb241a4b198a77e50b4026c": {
          "model_module": "@jupyter-widgets/base",
          "model_name": "LayoutModel",
          "model_module_version": "1.2.0",
          "state": {
            "_model_module": "@jupyter-widgets/base",
            "_model_module_version": "1.2.0",
            "_model_name": "LayoutModel",
            "_view_count": null,
            "_view_module": "@jupyter-widgets/base",
            "_view_module_version": "1.2.0",
            "_view_name": "LayoutView",
            "align_content": null,
            "align_items": null,
            "align_self": null,
            "border": null,
            "bottom": null,
            "display": null,
            "flex": null,
            "flex_flow": null,
            "grid_area": null,
            "grid_auto_columns": null,
            "grid_auto_flow": null,
            "grid_auto_rows": null,
            "grid_column": null,
            "grid_gap": null,
            "grid_row": null,
            "grid_template_areas": null,
            "grid_template_columns": null,
            "grid_template_rows": null,
            "height": null,
            "justify_content": null,
            "justify_items": null,
            "left": null,
            "margin": null,
            "max_height": null,
            "max_width": null,
            "min_height": null,
            "min_width": null,
            "object_fit": null,
            "object_position": null,
            "order": null,
            "overflow": null,
            "overflow_x": null,
            "overflow_y": null,
            "padding": null,
            "right": null,
            "top": null,
            "visibility": null,
            "width": null
          }
        },
        "f9d2e4bf7cbe444c8a5bb07ae589b32c": {
          "model_module": "@jupyter-widgets/controls",
          "model_name": "DescriptionStyleModel",
          "model_module_version": "1.5.0",
          "state": {
            "_model_module": "@jupyter-widgets/controls",
            "_model_module_version": "1.5.0",
            "_model_name": "DescriptionStyleModel",
            "_view_count": null,
            "_view_module": "@jupyter-widgets/base",
            "_view_module_version": "1.2.0",
            "_view_name": "StyleView",
            "description_width": ""
          }
        }
      }
    }
  },
  "nbformat": 4,
  "nbformat_minor": 0
}